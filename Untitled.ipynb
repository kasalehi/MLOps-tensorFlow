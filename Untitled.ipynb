{
 "cells": [
  {
   "cell_type": "code",
   "execution_count": 2,
   "id": "532a0cff-6c1e-4562-bf67-759e8702e782",
   "metadata": {},
   "outputs": [],
   "source": [
    "import requests"
   ]
  },
  {
   "cell_type": "code",
   "execution_count": 3,
   "id": "1d930c37-8f21-4bab-a697-2892fd4ff25f",
   "metadata": {},
   "outputs": [],
   "source": [
    "url=\"http://127.0.0.1:9696/predict\""
   ]
  },
  {
   "cell_type": "code",
   "execution_count": 4,
   "id": "0209ec1e-b8ea-4c4f-bcad-c955ac78e4fd",
   "metadata": {},
   "outputs": [],
   "source": [
    "customer={ \"gender\": \"male\",\n",
    " \"seniorcitizen\": 0,\n",
    " \"partner\": \"no\",\n",
    " \"dependents\": \"no\",\n",
    " \"tenure\": 34,\n",
    " \"phoneservice\": \"yes\",\n",
    " \"multiplelines\": \"no\",\n",
    " \"internetservice\": \"dsl\",\n",
    " \"onlinesecurity\": \"yes\",\n",
    " \"onlinebackup\": \"no\",\n",
    " \"deviceprotection\": \"yes\",\n",
    " \"techsupport\": \"no\",\n",
    " \"streamingtv\": \"no\",\n",
    " \"streamingmovies\": \"no\",\n",
    " \"contract\": \"one_year\",\n",
    " \"paperlessbilling\": \"no\",\n",
    " \"paymentmethod\": \"mailed_check\",\n",
    " \"monthlycharges\": 56.95,\n",
    " \"totalcharges\": 1889.5\n",
    "         }"
   ]
  },
  {
   "cell_type": "code",
   "execution_count": 6,
   "id": "93ff03f3-63d9-4c0f-8e0d-3ee9ac8ac3b2",
   "metadata": {},
   "outputs": [
    {
     "data": {
      "text/plain": [
       "{'prediction_number': 0.0}"
      ]
     },
     "execution_count": 6,
     "metadata": {},
     "output_type": "execute_result"
    }
   ],
   "source": [
    "requests.post(url,json=customer).json()"
   ]
  },
  {
   "cell_type": "code",
   "execution_count": null,
   "id": "c8ba6f1e-6b28-4f59-8b96-042502700795",
   "metadata": {},
   "outputs": [],
   "source": []
  }
 ],
 "metadata": {
  "kernelspec": {
   "display_name": "Python 3 (ipykernel)",
   "language": "python",
   "name": "python3"
  },
  "language_info": {
   "codemirror_mode": {
    "name": "ipython",
    "version": 3
   },
   "file_extension": ".py",
   "mimetype": "text/x-python",
   "name": "python",
   "nbconvert_exporter": "python",
   "pygments_lexer": "ipython3",
   "version": "3.12.1"
  }
 },
 "nbformat": 4,
 "nbformat_minor": 5
}
